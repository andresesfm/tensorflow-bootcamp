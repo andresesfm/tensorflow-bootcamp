{
 "cells": [
  {
   "cell_type": "code",
   "execution_count": 12,
   "metadata": {
    "collapsed": true
   },
   "outputs": [],
   "source": [
    "from sklearn.datasets import load_wine"
   ]
  },
  {
   "cell_type": "code",
   "execution_count": 13,
   "metadata": {
    "collapsed": true
   },
   "outputs": [],
   "source": [
    "wine_data = load_wine()"
   ]
  },
  {
   "cell_type": "code",
   "execution_count": 14,
   "metadata": {},
   "outputs": [
    {
     "data": {
      "text/plain": [
       "sklearn.utils.Bunch"
      ]
     },
     "execution_count": 14,
     "metadata": {},
     "output_type": "execute_result"
    }
   ],
   "source": [
    "type(wine_data)"
   ]
  },
  {
   "cell_type": "code",
   "execution_count": 15,
   "metadata": {},
   "outputs": [
    {
     "data": {
      "text/plain": [
       "dict_keys(['target_names', 'DESCR', 'target', 'data', 'feature_names'])"
      ]
     },
     "execution_count": 15,
     "metadata": {},
     "output_type": "execute_result"
    }
   ],
   "source": [
    "wine_data.keys()"
   ]
  },
  {
   "cell_type": "code",
   "execution_count": 16,
   "metadata": {},
   "outputs": [
    {
     "name": "stdout",
     "output_type": "stream",
     "text": [
      "Wine Data Database\n",
      "====================\n",
      "\n",
      "Notes\n",
      "-----\n",
      "Data Set Characteristics:\n",
      "    :Number of Instances: 178 (50 in each of three classes)\n",
      "    :Number of Attributes: 13 numeric, predictive attributes and the class\n",
      "    :Attribute Information:\n",
      " \t\t- 1) Alcohol\n",
      " \t\t- 2) Malic acid\n",
      " \t\t- 3) Ash\n",
      "\t\t- 4) Alcalinity of ash  \n",
      " \t\t- 5) Magnesium\n",
      "\t\t- 6) Total phenols\n",
      " \t\t- 7) Flavanoids\n",
      " \t\t- 8) Nonflavanoid phenols\n",
      " \t\t- 9) Proanthocyanins\n",
      "\t\t- 10)Color intensity\n",
      " \t\t- 11)Hue\n",
      " \t\t- 12)OD280/OD315 of diluted wines\n",
      " \t\t- 13)Proline\n",
      "        \t- class:\n",
      "                - class_0\n",
      "                - class_1\n",
      "                - class_2\n",
      "\t\t\n",
      "    :Summary Statistics:\n",
      "    \n",
      "    ============================= ==== ===== ======= =====\n",
      "                                   Min   Max   Mean     SD\n",
      "    ============================= ==== ===== ======= =====\n",
      "    Alcohol:                      11.0  14.8    13.0   0.8\n",
      "    Malic Acid:                   0.74  5.80    2.34  1.12\n",
      "    Ash:                          1.36  3.23    2.36  0.27\n",
      "    Alcalinity of Ash:            10.6  30.0    19.5   3.3\n",
      "    Magnesium:                    70.0 162.0    99.7  14.3\n",
      "    Total Phenols:                0.98  3.88    2.29  0.63\n",
      "    Flavanoids:                   0.34  5.08    2.03  1.00\n",
      "    Nonflavanoid Phenols:         0.13  0.66    0.36  0.12\n",
      "    Proanthocyanins:              0.41  3.58    1.59  0.57\n",
      "    Colour Intensity:              1.3  13.0     5.1   2.3\n",
      "    Hue:                          0.48  1.71    0.96  0.23\n",
      "    OD280/OD315 of diluted wines: 1.27  4.00    2.61  0.71\n",
      "    Proline:                       278  1680     746   315\n",
      "    ============================= ==== ===== ======= =====\n",
      "\n",
      "    :Missing Attribute Values: None\n",
      "    :Class Distribution: class_0 (59), class_1 (71), class_2 (48)\n",
      "    :Creator: R.A. Fisher\n",
      "    :Donor: Michael Marshall (MARSHALL%PLU@io.arc.nasa.gov)\n",
      "    :Date: July, 1988\n",
      "\n",
      "This is a copy of UCI ML Wine recognition datasets.\n",
      "https://archive.ics.uci.edu/ml/machine-learning-databases/wine/wine.data\n",
      "\n",
      "The data is the results of a chemical analysis of wines grown in the same\n",
      "region in Italy by three different cultivators. There are thirteen different\n",
      "measurements taken for different constituents found in the three types of\n",
      "wine.\n",
      "\n",
      "Original Owners: \n",
      "\n",
      "Forina, M. et al, PARVUS - \n",
      "An Extendible Package for Data Exploration, Classification and Correlation. \n",
      "Institute of Pharmaceutical and Food Analysis and Technologies,\n",
      "Via Brigata Salerno, 16147 Genoa, Italy.\n",
      "\n",
      "Citation:\n",
      "\n",
      "Lichman, M. (2013). UCI Machine Learning Repository\n",
      "[http://archive.ics.uci.edu/ml]. Irvine, CA: University of California,\n",
      "School of Information and Computer Science. \n",
      "\n",
      "References\n",
      "----------\n",
      "(1) \n",
      "S. Aeberhard, D. Coomans and O. de Vel, \n",
      "Comparison of Classifiers in High Dimensional Settings, \n",
      "Tech. Rep. no. 92-02, (1992), Dept. of Computer Science and Dept. of \n",
      "Mathematics and Statistics, James Cook University of North Queensland. \n",
      "(Also submitted to Technometrics). \n",
      "\n",
      "The data was used with many others for comparing various \n",
      "classifiers. The classes are separable, though only RDA \n",
      "has achieved 100% correct classification. \n",
      "(RDA : 100%, QDA 99.4%, LDA 98.9%, 1NN 96.1% (z-transformed data)) \n",
      "(All results using the leave-one-out technique) \n",
      "\n",
      "(2) \n",
      "S. Aeberhard, D. Coomans and O. de Vel, \n",
      "\"THE CLASSIFICATION PERFORMANCE OF RDA\" \n",
      "Tech. Rep. no. 92-01, (1992), Dept. of Computer Science and Dept. of \n",
      "Mathematics and Statistics, James Cook University of North Queensland. \n",
      "(Also submitted to Journal of Chemometrics). \n",
      "\n"
     ]
    }
   ],
   "source": [
    "print(wine_data['DESCR'])"
   ]
  },
  {
   "cell_type": "code",
   "execution_count": 17,
   "metadata": {
    "collapsed": true
   },
   "outputs": [],
   "source": [
    "feat_data = wine_data['data']\n",
    "labels = wine_data['target']"
   ]
  },
  {
   "cell_type": "code",
   "execution_count": 18,
   "metadata": {
    "collapsed": true
   },
   "outputs": [],
   "source": [
    "from sklearn.model_selection import train_test_split"
   ]
  },
  {
   "cell_type": "code",
   "execution_count": 19,
   "metadata": {
    "collapsed": true
   },
   "outputs": [],
   "source": [
    " X_train, X_test, y_train, y_test = train_test_split( feat_data, labels, test_size=0.33, random_state=101)"
   ]
  },
  {
   "cell_type": "code",
   "execution_count": 20,
   "metadata": {
    "collapsed": true
   },
   "outputs": [],
   "source": [
    "from sklearn.preprocessing import MinMaxScaler"
   ]
  },
  {
   "cell_type": "code",
   "execution_count": 21,
   "metadata": {
    "collapsed": true
   },
   "outputs": [],
   "source": [
    "scaler = MinMaxScaler()"
   ]
  },
  {
   "cell_type": "code",
   "execution_count": 22,
   "metadata": {
    "collapsed": true
   },
   "outputs": [],
   "source": [
    "scaled_x_train = scaler.fit_transform(X_train)"
   ]
  },
  {
   "cell_type": "code",
   "execution_count": 23,
   "metadata": {
    "collapsed": true
   },
   "outputs": [],
   "source": [
    "scaled_x_test = scaler.transform(X_test)"
   ]
  },
  {
   "cell_type": "markdown",
   "metadata": {
    "collapsed": true
   },
   "source": [
    "## Keras"
   ]
  },
  {
   "cell_type": "code",
   "execution_count": 24,
   "metadata": {
    "collapsed": true
   },
   "outputs": [],
   "source": [
    "import tensorflow as tf\n",
    "from tensorflow.contrib.keras import models"
   ]
  },
  {
   "cell_type": "code",
   "execution_count": 25,
   "metadata": {
    "collapsed": true
   },
   "outputs": [],
   "source": [
    "dnn_keras_model = models.Sequential()"
   ]
  },
  {
   "cell_type": "code",
   "execution_count": 26,
   "metadata": {
    "collapsed": true
   },
   "outputs": [],
   "source": [
    "from tensorflow.contrib.keras import layers"
   ]
  },
  {
   "cell_type": "code",
   "execution_count": 27,
   "metadata": {},
   "outputs": [],
   "source": [
    "dnn_keras_model.add(layers.Dense(units=13,input_dim=13,activation='relu'))"
   ]
  },
  {
   "cell_type": "code",
   "execution_count": 28,
   "metadata": {},
   "outputs": [],
   "source": [
    "dnn_keras_model.add(layers.Dense(units=13,activation='relu'))\n",
    "dnn_keras_model.add(layers.Dense(units=13,activation='relu'))"
   ]
  },
  {
   "cell_type": "code",
   "execution_count": 29,
   "metadata": {
    "collapsed": true
   },
   "outputs": [],
   "source": [
    "dnn_keras_model.add(layers.Dense(units=3,activation='softmax'))"
   ]
  },
  {
   "cell_type": "code",
   "execution_count": 30,
   "metadata": {
    "collapsed": true
   },
   "outputs": [],
   "source": [
    "from tensorflow.contrib.keras import losses,optimizers,metrics,activations"
   ]
  },
  {
   "cell_type": "code",
   "execution_count": 31,
   "metadata": {
    "collapsed": true
   },
   "outputs": [],
   "source": [
    "dnn_keras_model.compile(optimizer='adam',\n",
    "                       loss='sparse_categorical_crossentropy',\n",
    "                       metrics=['accuracy'])"
   ]
  },
  {
   "cell_type": "code",
   "execution_count": 33,
   "metadata": {},
   "outputs": [
    {
     "name": "stdout",
     "output_type": "stream",
     "text": [
      "Epoch 1/50\n",
      "119/119 [==============================] - 0s 4ms/step - loss: 1.1064 - acc: 0.3109\n",
      "Epoch 2/50\n",
      "119/119 [==============================] - 0s 158us/step - loss: 1.0921 - acc: 0.4454\n",
      "Epoch 3/50\n",
      "119/119 [==============================] - 0s 215us/step - loss: 1.0809 - acc: 0.4790\n",
      "Epoch 4/50\n",
      "119/119 [==============================] - 0s 171us/step - loss: 1.0703 - acc: 0.6050\n",
      "Epoch 5/50\n",
      "119/119 [==============================] - 0s 118us/step - loss: 1.0592 - acc: 0.5798\n",
      "Epoch 6/50\n",
      "119/119 [==============================] - 0s 145us/step - loss: 1.0491 - acc: 0.6134\n",
      "Epoch 7/50\n",
      "119/119 [==============================] - 0s 95us/step - loss: 1.0383 - acc: 0.6050\n",
      "Epoch 8/50\n",
      "119/119 [==============================] - 0s 131us/step - loss: 1.0278 - acc: 0.6134\n",
      "Epoch 9/50\n",
      "119/119 [==============================] - 0s 133us/step - loss: 1.0168 - acc: 0.6218\n",
      "Epoch 10/50\n",
      "119/119 [==============================] - 0s 86us/step - loss: 1.0046 - acc: 0.6639\n",
      "Epoch 11/50\n",
      "119/119 [==============================] - 0s 200us/step - loss: 0.9913 - acc: 0.6807\n",
      "Epoch 12/50\n",
      "119/119 [==============================] - 0s 167us/step - loss: 0.9768 - acc: 0.7059\n",
      "Epoch 13/50\n",
      "119/119 [==============================] - 0s 255us/step - loss: 0.9608 - acc: 0.7143\n",
      "Epoch 14/50\n",
      "119/119 [==============================] - 0s 136us/step - loss: 0.9433 - acc: 0.7815\n",
      "Epoch 15/50\n",
      "119/119 [==============================] - 0s 157us/step - loss: 0.9251 - acc: 0.8067\n",
      "Epoch 16/50\n",
      "119/119 [==============================] - 0s 112us/step - loss: 0.9046 - acc: 0.8487\n",
      "Epoch 17/50\n",
      "119/119 [==============================] - 0s 162us/step - loss: 0.8836 - acc: 0.8739\n",
      "Epoch 18/50\n",
      "119/119 [==============================] - 0s 163us/step - loss: 0.8628 - acc: 0.8824\n",
      "Epoch 19/50\n",
      "119/119 [==============================] - 0s 148us/step - loss: 0.8402 - acc: 0.8824\n",
      "Epoch 20/50\n",
      "119/119 [==============================] - 0s 140us/step - loss: 0.8178 - acc: 0.8824\n",
      "Epoch 21/50\n",
      "119/119 [==============================] - 0s 176us/step - loss: 0.7949 - acc: 0.8824\n",
      "Epoch 22/50\n",
      "119/119 [==============================] - 0s 204us/step - loss: 0.7712 - acc: 0.8908\n",
      "Epoch 23/50\n",
      "119/119 [==============================] - 0s 166us/step - loss: 0.7467 - acc: 0.8908\n",
      "Epoch 24/50\n",
      "119/119 [==============================] - 0s 138us/step - loss: 0.7211 - acc: 0.8824\n",
      "Epoch 25/50\n",
      "119/119 [==============================] - 0s 332us/step - loss: 0.6963 - acc: 0.8824\n",
      "Epoch 26/50\n",
      "119/119 [==============================] - 0s 189us/step - loss: 0.6690 - acc: 0.8824\n",
      "Epoch 27/50\n",
      "119/119 [==============================] - 0s 201us/step - loss: 0.6420 - acc: 0.8908\n",
      "Epoch 28/50\n",
      "119/119 [==============================] - 0s 176us/step - loss: 0.6153 - acc: 0.8908\n",
      "Epoch 29/50\n",
      "119/119 [==============================] - 0s 154us/step - loss: 0.5888 - acc: 0.9076\n",
      "Epoch 30/50\n",
      "119/119 [==============================] - 0s 173us/step - loss: 0.5621 - acc: 0.8992\n",
      "Epoch 31/50\n",
      "119/119 [==============================] - 0s 149us/step - loss: 0.5364 - acc: 0.8908\n",
      "Epoch 32/50\n",
      "119/119 [==============================] - 0s 237us/step - loss: 0.5100 - acc: 0.9076\n",
      "Epoch 33/50\n",
      "119/119 [==============================] - 0s 181us/step - loss: 0.4857 - acc: 0.9160\n",
      "Epoch 34/50\n",
      "119/119 [==============================] - 0s 209us/step - loss: 0.4617 - acc: 0.9244\n",
      "Epoch 35/50\n",
      "119/119 [==============================] - 0s 145us/step - loss: 0.4378 - acc: 0.9328\n",
      "Epoch 36/50\n",
      "119/119 [==============================] - 0s 117us/step - loss: 0.4150 - acc: 0.9412\n",
      "Epoch 37/50\n",
      "119/119 [==============================] - 0s 213us/step - loss: 0.3937 - acc: 0.9412\n",
      "Epoch 38/50\n",
      "119/119 [==============================] - 0s 193us/step - loss: 0.3729 - acc: 0.9412\n",
      "Epoch 39/50\n",
      "119/119 [==============================] - 0s 125us/step - loss: 0.3533 - acc: 0.9412\n",
      "Epoch 40/50\n",
      "119/119 [==============================] - 0s 122us/step - loss: 0.3346 - acc: 0.9496\n",
      "Epoch 41/50\n",
      "119/119 [==============================] - 0s 98us/step - loss: 0.3174 - acc: 0.9496\n",
      "Epoch 42/50\n",
      "119/119 [==============================] - 0s 95us/step - loss: 0.3009 - acc: 0.9496\n",
      "Epoch 43/50\n",
      "119/119 [==============================] - 0s 246us/step - loss: 0.2855 - acc: 0.9496\n",
      "Epoch 44/50\n",
      "119/119 [==============================] - 0s 185us/step - loss: 0.2712 - acc: 0.9496\n",
      "Epoch 45/50\n",
      "119/119 [==============================] - 0s 106us/step - loss: 0.2578 - acc: 0.9496\n",
      "Epoch 46/50\n",
      "119/119 [==============================] - 0s 144us/step - loss: 0.2453 - acc: 0.9496\n",
      "Epoch 47/50\n",
      "119/119 [==============================] - 0s 106us/step - loss: 0.2338 - acc: 0.9580\n",
      "Epoch 48/50\n",
      "119/119 [==============================] - 0s 149us/step - loss: 0.2223 - acc: 0.9580\n",
      "Epoch 49/50\n",
      "119/119 [==============================] - 0s 178us/step - loss: 0.2125 - acc: 0.9580\n",
      "Epoch 50/50\n",
      "119/119 [==============================] - 0s 139us/step - loss: 0.2029 - acc: 0.9664\n"
     ]
    },
    {
     "data": {
      "text/plain": [
       "<tensorflow.python.keras.callbacks.History at 0x7f71e76afcf8>"
      ]
     },
     "execution_count": 33,
     "metadata": {},
     "output_type": "execute_result"
    }
   ],
   "source": [
    "dnn_keras_model.fit(scaled_x_train,y_train,epochs=50)"
   ]
  },
  {
   "cell_type": "code",
   "execution_count": 34,
   "metadata": {
    "collapsed": true
   },
   "outputs": [],
   "source": [
    "predictions = dnn_keras_model.predict_classes(scaled_x_test)"
   ]
  },
  {
   "cell_type": "code",
   "execution_count": 35,
   "metadata": {
    "collapsed": true
   },
   "outputs": [],
   "source": [
    "from sklearn.metrics import classification_report"
   ]
  },
  {
   "cell_type": "code",
   "execution_count": 36,
   "metadata": {},
   "outputs": [
    {
     "name": "stdout",
     "output_type": "stream",
     "text": [
      "             precision    recall  f1-score   support\n",
      "\n",
      "          0       1.00      1.00      1.00        20\n",
      "          1       0.96      1.00      0.98        24\n",
      "          2       1.00      0.93      0.97        15\n",
      "\n",
      "avg / total       0.98      0.98      0.98        59\n",
      "\n"
     ]
    }
   ],
   "source": [
    "print(classification_report(predictions,y_test))"
   ]
  },
  {
   "cell_type": "code",
   "execution_count": null,
   "metadata": {
    "collapsed": true
   },
   "outputs": [],
   "source": []
  }
 ],
 "metadata": {
  "kernelspec": {
   "display_name": "Python 3",
   "language": "python",
   "name": "python3"
  },
  "language_info": {
   "codemirror_mode": {
    "name": "ipython",
    "version": 3
   },
   "file_extension": ".py",
   "mimetype": "text/x-python",
   "name": "python",
   "nbconvert_exporter": "python",
   "pygments_lexer": "ipython3",
   "version": "3.5.4"
  }
 },
 "nbformat": 4,
 "nbformat_minor": 2
}
