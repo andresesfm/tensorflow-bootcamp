{
 "cells": [
  {
   "cell_type": "code",
   "execution_count": 1,
   "metadata": {
    "collapsed": true
   },
   "outputs": [],
   "source": [
    "import numpy as np\n",
    "import matplotlib.pyplot as plt\n",
    "%matplotlib inline"
   ]
  },
  {
   "cell_type": "code",
   "execution_count": 2,
   "metadata": {
    "collapsed": true
   },
   "outputs": [],
   "source": [
    "from sklearn.datasets import make_blobs"
   ]
  },
  {
   "cell_type": "code",
   "execution_count": 3,
   "metadata": {
    "collapsed": true
   },
   "outputs": [],
   "source": [
    "data = make_blobs(n_samples=100, n_features=3,centers=2, random_state=101)"
   ]
  },
  {
   "cell_type": "code",
   "execution_count": 5,
   "metadata": {},
   "outputs": [
    {
     "data": {
      "text/plain": [
       "(array([[  0.99429187,   0.87511711,  -9.99909683],\n",
       "        [  0.65761885,   0.91624771, -10.18458517],\n",
       "        [ -6.48804352,   3.29034852,   6.73159871],\n",
       "        [  0.5815206 ,   2.06249948,  -9.07157495],\n",
       "        [ -7.42442678,   5.30835517,   6.86341624],\n",
       "        [  2.26790487,   0.40816482, -10.17230518],\n",
       "        [  1.62073713,  -0.05416228,  -9.92461083],\n",
       "        [  2.41199108,   1.03683306,  -9.20017913],\n",
       "        [ -7.62441747,   5.87096075,   5.41069708],\n",
       "        [ -7.34160752,   3.671108  ,   7.36634568],\n",
       "        [ -7.56358517,   3.5736335 ,   5.34284552],\n",
       "        [  2.22972735,   1.6514787 ,  -7.43386319],\n",
       "        [ -0.75249891,   2.31574949,  -9.26873428],\n",
       "        [  0.54946324,   0.5581557 ,  -7.88852506],\n",
       "        [ -0.4308995 ,   0.48011452,  -8.47545896],\n",
       "        [ -1.19436032,   2.54705473,  -8.90232874],\n",
       "        [ -0.06318407,   2.4416449 , -11.40312057],\n",
       "        [ -6.70999871,   3.8246846 ,   7.34365184],\n",
       "        [  1.32054601,   2.60559237, -10.47729501],\n",
       "        [  0.15391601,   2.19349145,  -9.8137736 ],\n",
       "        [  0.32833903,   2.43933589,  -9.58711337],\n",
       "        [ -7.01543966,   4.3914134 ,   9.46294692],\n",
       "        [  0.16543782,   1.89916047,  -9.03802666],\n",
       "        [  0.7185004 ,   1.58025637,  -9.24601361],\n",
       "        [ -7.65700277,   1.13777271,   7.33896645],\n",
       "        [ -7.12044288,   4.64758461,   5.7025879 ],\n",
       "        [  1.93475242,   0.29764177, -10.81589403],\n",
       "        [ -6.4220804 ,   2.9760733 ,   5.9578275 ],\n",
       "        [ -7.39003004,   2.67596248,   5.15308172],\n",
       "        [ -7.03832316,   4.56563667,   6.9080243 ],\n",
       "        [ -4.07557669,   3.15827975,   7.17466421],\n",
       "        [ -0.61543385,   1.89810338,  -9.54728879],\n",
       "        [  0.9339379 ,  -0.60481651,  -8.69039341],\n",
       "        [ -4.81755245,   4.40108636,   6.83159809],\n",
       "        [  0.57115017,   2.27751662, -10.99144692],\n",
       "        [ -1.0016875 ,   1.45481168,  -9.84157087],\n",
       "        [  1.7353108 ,   2.05515725, -10.33561537],\n",
       "        [ -8.68467997,   3.42602942,   7.74064767],\n",
       "        [  0.9790905 ,   1.09403369, -10.27859245],\n",
       "        [ -5.79759684,   3.99975626,   5.28641819],\n",
       "        [  2.44569994,   1.61087572,  -7.12752821],\n",
       "        [  1.81046805,   2.37480989, -11.57172776],\n",
       "        [ -6.24790729,   4.71286377,   7.00772091],\n",
       "        [ -8.20249087,   4.507669  ,   5.01040047],\n",
       "        [  1.00918185,   2.44847681,  -9.46167595],\n",
       "        [ -6.78887759,   3.65986315,   6.69035824],\n",
       "        [  0.51876688,   3.39210906,  -6.82454819],\n",
       "        [ -8.40882774,   4.56913524,   5.60134675],\n",
       "        [ -0.44335605,   1.52382915, -10.23516698],\n",
       "        [ -5.24785153,   4.49966814,   8.03764923],\n",
       "        [ -6.13431395,   4.96544332,   6.2300389 ],\n",
       "        [ -1.37811338,   0.25423232,  -9.56535619],\n",
       "        [  0.29639341,   2.06317757,  -7.27566903],\n",
       "        [ -6.17610612,   3.075033  ,   5.27964757],\n",
       "        [ -0.53891248,   2.13413934, -10.65359751],\n",
       "        [ -5.43954882,   4.60333595,   7.00880287],\n",
       "        [  0.85678605,   0.8243512 ,  -9.24182016],\n",
       "        [ -0.65480344,   3.64490698, -10.40190804],\n",
       "        [ -6.05573415,   2.7773348 ,   7.52484115],\n",
       "        [ -0.80584461,   2.02382964,  -9.04448516],\n",
       "        [ -0.2822863 ,   0.6580264 ,  -9.77693397],\n",
       "        [ -5.66674102,   3.16763048,   5.12826615],\n",
       "        [  1.35278283,   0.48747748,  -7.56765133],\n",
       "        [ -6.47593889,   4.94635225,   5.58024423],\n",
       "        [ -6.86800262,   3.73468111,   7.56696814],\n",
       "        [ -6.65886532,   4.40410604,   5.26881157],\n",
       "        [ -7.14994986,   4.91456692,   7.87968128],\n",
       "        [  1.05699629,   0.55026047,  -9.12488396],\n",
       "        [  0.51509708,   0.68050659, -10.81343557],\n",
       "        [ -5.53765102,   2.62442136,   6.67758229],\n",
       "        [ -5.69865986,   5.29135203,   7.60759509],\n",
       "        [  1.16100188,   2.38907142,  -9.81875417],\n",
       "        [  0.47499933,   0.9339037 ,  -8.87174606],\n",
       "        [ -9.30656147,   5.22810174,   6.85594634],\n",
       "        [  1.1112886 ,   0.704398  ,  -8.84366818],\n",
       "        [ -6.16198043,   4.51338238,   3.94147281],\n",
       "        [ -7.80518114,   2.90711167,   7.43205869],\n",
       "        [  0.0760756 ,   0.83523148,  -9.19351984],\n",
       "        [  0.52875302,   1.74119648,  -8.75603028],\n",
       "        [ -5.95090888,   1.65297671,   6.51129114],\n",
       "        [ -5.96070958,   3.99201262,   6.47214495],\n",
       "        [ -5.04581642,   4.99576956,   5.19961789],\n",
       "        [ -7.37241005,   3.45206025,   6.768636  ],\n",
       "        [ -6.78944842,   3.99833476,   7.51229177],\n",
       "        [ -7.55471973,   3.55026388,   5.66470924],\n",
       "        [ -0.66529095,   1.61015124, -10.56716006],\n",
       "        [ -4.54002269,   2.65918125,   5.37145495],\n",
       "        [ -1.3503111 ,   1.74732484,  -9.962986  ],\n",
       "        [  1.01148144,   1.71601719,  -7.73679255],\n",
       "        [ -8.4775757 ,   3.32543613,   5.01187807],\n",
       "        [ -1.29337527,   2.09088685,  -9.40440999],\n",
       "        [ -6.35533268,   3.46502969,   5.25698778],\n",
       "        [ -0.08134593,   1.75689092,  -9.23424015],\n",
       "        [  1.13567847,   1.48631141,  -8.79172846],\n",
       "        [ -6.40192863,   2.93960956,   7.64023642],\n",
       "        [ -6.85482364,   5.79607878,   7.6819934 ],\n",
       "        [ -7.63261577,   3.58015883,   5.73234913],\n",
       "        [ -6.90248768,   2.77693736,   8.39388742],\n",
       "        [ -6.3033601 ,   4.1181198 ,   7.6667101 ],\n",
       "        [ -7.19637228,   3.31445067,   8.4214142 ]]),\n",
       " array([0, 0, 1, 0, 1, 0, 0, 0, 1, 1, 1, 0, 0, 0, 0, 0, 0, 1, 0, 0, 0, 1,\n",
       "        0, 0, 1, 1, 0, 1, 1, 1, 1, 0, 0, 1, 0, 0, 0, 1, 0, 1, 0, 0, 1, 1,\n",
       "        0, 1, 0, 1, 0, 1, 1, 0, 0, 1, 0, 1, 0, 0, 1, 0, 0, 1, 0, 1, 1, 1,\n",
       "        1, 0, 0, 1, 1, 0, 0, 1, 0, 1, 1, 0, 0, 1, 1, 1, 1, 1, 1, 0, 1, 0,\n",
       "        0, 1, 0, 1, 0, 0, 1, 1, 1, 1, 1, 1]))"
      ]
     },
     "execution_count": 5,
     "metadata": {},
     "output_type": "execute_result"
    }
   ],
   "source": [
    "data"
   ]
  },
  {
   "cell_type": "code",
   "execution_count": 6,
   "metadata": {
    "collapsed": true
   },
   "outputs": [],
   "source": [
    "from sklearn.preprocessing import MinMaxScaler"
   ]
  },
  {
   "cell_type": "code",
   "execution_count": 7,
   "metadata": {
    "collapsed": true
   },
   "outputs": [],
   "source": [
    "scaler = MinMaxScaler()"
   ]
  },
  {
   "cell_type": "code",
   "execution_count": 8,
   "metadata": {
    "collapsed": true
   },
   "outputs": [],
   "source": [
    "scaled_data = scaler.fit_transform(data[0])"
   ]
  },
  {
   "cell_type": "code",
   "execution_count": 14,
   "metadata": {
    "collapsed": true
   },
   "outputs": [],
   "source": [
    "data_x = scaled_data[:,0]\n",
    "data_y = scaled_data[:,1]\n",
    "data_z = scaled_data[:,2]"
   ]
  },
  {
   "cell_type": "code",
   "execution_count": 15,
   "metadata": {
    "collapsed": true
   },
   "outputs": [],
   "source": [
    "from mpl_toolkits.mplot3d import Axes3D"
   ]
  },
  {
   "cell_type": "code",
   "execution_count": 17,
   "metadata": {},
   "outputs": [
    {
     "data": {
      "text/plain": [
       "<mpl_toolkits.mplot3d.art3d.Path3DCollection at 0x7f2051b00cc0>"
      ]
     },
     "execution_count": 17,
     "metadata": {},
     "output_type": "execute_result"
    },
    {
     "data": {
      "image/png": "[encoded data removed]",
      "text/plain": [
       "<matplotlib.figure.Figure at 0x7f2054215550>"
      ]
     },
     "metadata": {},
     "output_type": "display_data"
    }
   ],
   "source": [
    "fig = plt.figure()\n",
    "ax = fig.add_subplot(111,projection ='3d')\n",
    "ax.scatter(data_x,data_y,data_z, c=data[1])"
   ]
  },
  {
   "cell_type": "code",
   "execution_count": 19,
   "metadata": {},
   "outputs": [],
   "source": [
    "import tensorflow as tf"
   ]
  },
  {
   "cell_type": "code",
   "execution_count": 20,
   "metadata": {
    "collapsed": true
   },
   "outputs": [],
   "source": [
    "from tensorflow.contrib.layers import fully_connected"
   ]
  },
  {
   "cell_type": "code",
   "execution_count": 21,
   "metadata": {
    "collapsed": true
   },
   "outputs": [],
   "source": [
    "num_inputs = 3\n",
    "num_hidden = 2\n",
    "num_outputs = num_inputs"
   ]
  },
  {
   "cell_type": "code",
   "execution_count": 22,
   "metadata": {
    "collapsed": true
   },
   "outputs": [],
   "source": [
    "learning_rate = 0.01"
   ]
  },
  {
   "cell_type": "code",
   "execution_count": 28,
   "metadata": {
    "collapsed": true
   },
   "outputs": [],
   "source": [
    "X = tf.placeholder(tf.float32 , shape = [None, num_inputs])"
   ]
  },
  {
   "cell_type": "code",
   "execution_count": 29,
   "metadata": {
    "collapsed": true
   },
   "outputs": [],
   "source": [
    "hidden = fully_connected(X,num_hidden,activation_fn=None)\n",
    "outputs = fully_connected(hidden,num_outputs,activation_fn=None)"
   ]
  },
  {
   "cell_type": "code",
   "execution_count": 31,
   "metadata": {},
   "outputs": [],
   "source": [
    "loss = tf.reduce_mean(tf.square(outputs- X))"
   ]
  },
  {
   "cell_type": "code",
   "execution_count": 34,
   "metadata": {
    "collapsed": true
   },
   "outputs": [],
   "source": [
    "optimizer = tf.train.AdamOptimizer()"
   ]
  },
  {
   "cell_type": "code",
   "execution_count": 35,
   "metadata": {},
   "outputs": [],
   "source": [
    "train = optimizer.minimize(loss)"
   ]
  },
  {
   "cell_type": "code",
   "execution_count": 36,
   "metadata": {
    "collapsed": true
   },
   "outputs": [],
   "source": [
    "init  = tf.global_variables_initializer()"
   ]
  },
  {
   "cell_type": "code",
   "execution_count": 38,
   "metadata": {},
   "outputs": [],
   "source": [
    "with tf.Session() as sess:\n",
    "    sess.run(init)\n",
    "    for i in range(1000):\n",
    "        sess.run(train,feed_dict={X:scaled_data})\n",
    "    output_2d = hidden.eval(feed_dict={X:scaled_data})"
   ]
  },
  {
   "cell_type": "code",
   "execution_count": 44,
   "metadata": {},
   "outputs": [
    {
     "data": {
      "text/plain": [
       "<matplotlib.collections.PathCollection at 0x7f203433b4e0>"
      ]
     },
     "execution_count": 44,
     "metadata": {},
     "output_type": "execute_result"
    },
    {
     "data": {
      "image/png": "[encoded data removed]",
      "text/plain": [
       "<matplotlib.figure.Figure at 0x7f20363b7d68>"
      ]
     },
     "metadata": {},
     "output_type": "display_data"
    }
   ],
   "source": [
    "plt.scatter(output_2d[:,0],output_2d[:,1], c=data[1])"
   ]
  },
  {
   "cell_type": "code",
   "execution_count": null,
   "metadata": {
    "collapsed": true
   },
   "outputs": [],
   "source": []
  }
 ],
 "metadata": {
  "kernelspec": {
   "display_name": "Python 3",
   "language": "python",
   "name": "python3"
  },
  "language_info": {
   "codemirror_mode": {
    "name": "ipython",
    "version": 3
   },
   "file_extension": ".py",
   "mimetype": "text/x-python",
   "name": "python",
   "nbconvert_exporter": "python",
   "pygments_lexer": "ipython3",
   "version": "3.5.4"
  }
 },
 "nbformat": 4,
 "nbformat_minor": 2
}
